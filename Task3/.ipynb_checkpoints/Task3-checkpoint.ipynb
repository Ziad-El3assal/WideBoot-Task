{
 "cells": [
  {
   "cell_type": "code",
   "execution_count": 138,
   "id": "d2adce2d",
   "metadata": {},
   "outputs": [],
   "source": [
    "# Used for interacting with the operating system, such as handling file paths.\n",
    "import os \n",
    "\n",
    "# A powerful library for numerical and matrix operations, commonly used in scientific computing and data analysis.\n",
    "import numpy as np  \n",
    "\n",
    "# Enables the creation of data visualizations and plots for better data understanding.\n",
    "import matplotlib.pyplot as plt  \n",
    "\n",
    "# Provides additional plotting functionalities and a more aesthetically pleasing style, built on top of matplotlib.\n",
    "import seaborn as sns  \n",
    "\n",
    "# Offers a fast and extensible progress bar for tracking the progress of loops and iterable objects.\n",
    "from tqdm import trange  \n",
    "\n",
    "# breaks text into individual words or sentences.\n",
    "import nltk\n",
    "from nltk.tokenize import word_tokenize\n",
    "\n",
    "# this module provides a list of common stop words used for text analysis and processing.\n",
    "from nltk.corpus import stopwords  \n",
    "\n",
    "# converting words to their base or root form.\n",
    "from nltk.stem import WordNetLemmatizer  \n",
    "\n",
    "# used for calculating the frequency distribution of words in a text.\n",
    "from nltk.probability import FreqDist  \n",
    "\n",
    "# A built-in Python module used for counting elements in an iterable.\n",
    "from collections import Counter \n",
    "\n",
    " # A module from scikit-learn used for text vectorization, converting text data into numerical features.\n",
    "from sklearn.feature_extraction.text import CountVectorizer \n",
    "\n",
    "# A popular library for data manipulation and analysis, particularly useful for working with structured data like spreadsheets or tables.\n",
    "import pandas as pd  \n",
    "\n",
    "\n",
    "import warnings\n",
    "warnings.filterwarnings(\"ignore\", category=UserWarning, message=\"Glyph 65018\")\n",
    "\n",
    "#to use Arabic date time\n",
    "import locale\n",
    "from datetime import datetime\n",
    "import calendar\n",
    "\n",
    "import re"
   ]
  },
  {
   "cell_type": "code",
   "execution_count": 139,
   "id": "6640daf7",
   "metadata": {},
   "outputs": [],
   "source": [
    "files=os.listdir('D:\\\\UPWork\\\\WideBot\\\\Data')"
   ]
  },
  {
   "cell_type": "code",
   "execution_count": 140,
   "id": "d59b3672",
   "metadata": {},
   "outputs": [
    {
     "data": {
      "text/plain": [
       "['stories_art-et-culture.csv',\n",
       " 'stories_economie.csv',\n",
       " 'stories_faits-divers.csv',\n",
       " 'stories_marocains-du-monde.csv',\n",
       " 'stories_medias.csv',\n",
       " 'stories_orbites.csv',\n",
       " 'stories_politique.csv',\n",
       " 'stories_regions.csv',\n",
       " 'stories_societe.csv',\n",
       " 'stories_sport.csv',\n",
       " 'stories_tamazight.csv']"
      ]
     },
     "execution_count": 140,
     "metadata": {},
     "output_type": "execute_result"
    }
   ],
   "source": [
    "files"
   ]
  },
  {
   "cell_type": "code",
   "execution_count": 166,
   "id": "7c4150fe",
   "metadata": {},
   "outputs": [],
   "source": [
    "df=pd.DataFrame()\n",
    "for file in files:\n",
    "    df=pd.concat([df,pd.read_csv('D:\\\\UPWork\\\\WideBot\\\\Data'+'\\\\'+file)])"
   ]
  },
  {
   "cell_type": "code",
   "execution_count": 167,
   "id": "716bad9e",
   "metadata": {},
   "outputs": [
    {
     "data": {
      "text/html": [
       "<div>\n",
       "<style scoped>\n",
       "    .dataframe tbody tr th:only-of-type {\n",
       "        vertical-align: middle;\n",
       "    }\n",
       "\n",
       "    .dataframe tbody tr th {\n",
       "        vertical-align: top;\n",
       "    }\n",
       "\n",
       "    .dataframe thead th {\n",
       "        text-align: right;\n",
       "    }\n",
       "</style>\n",
       "<table border=\"1\" class=\"dataframe\">\n",
       "  <thead>\n",
       "    <tr style=\"text-align: right;\">\n",
       "      <th></th>\n",
       "      <th>Unnamed: 0</th>\n",
       "      <th>id</th>\n",
       "      <th>title</th>\n",
       "      <th>date</th>\n",
       "      <th>author</th>\n",
       "      <th>story</th>\n",
       "      <th>topic</th>\n",
       "    </tr>\n",
       "  </thead>\n",
       "  <tbody>\n",
       "    <tr>\n",
       "      <th>0</th>\n",
       "      <td>0</td>\n",
       "      <td>f06aa998054e11eba66e646e69d991ea</td>\n",
       "      <td>\"بيت الشعر\" يسائل وزير الثقافة عن كوابيس سوداء</td>\n",
       "      <td>الجمعة 02 أكتوبر 2020 - 23:19</td>\n",
       "      <td>هسبريس من الرباط</td>\n",
       "      <td>وجه \"بيت الشعر في المغرب\" إلى وزير الثقافة وال...</td>\n",
       "      <td>art-et-culture</td>\n",
       "    </tr>\n",
       "    <tr>\n",
       "      <th>1</th>\n",
       "      <td>1</td>\n",
       "      <td>f1cf1b9c054e11ebb718646e69d991ea</td>\n",
       "      <td>مهرجان \"سينما المؤلّف\" يستحضر روح ثريا جبران</td>\n",
       "      <td>الجمعة 02 أكتوبر 2020 - 07:26</td>\n",
       "      <td>هسبريس من الرباط</td>\n",
       "      <td>في ظلّ استمرار حالة الطوارئ الصحية المرتبطة بج...</td>\n",
       "      <td>art-et-culture</td>\n",
       "    </tr>\n",
       "    <tr>\n",
       "      <th>2</th>\n",
       "      <td>2</td>\n",
       "      <td>f2d282a4054e11eb800f646e69d991ea</td>\n",
       "      <td>فيلم \"بدون عنف\" لهشام العسري ..\"كعب الحذاء ووا...</td>\n",
       "      <td>الجمعة 02 أكتوبر 2020 - 04:00</td>\n",
       "      <td>عفيفة الحسينات*</td>\n",
       "      <td>تشير مشاهدة فيلم قصير ضمن الثلاثية الأخيرة للم...</td>\n",
       "      <td>art-et-culture</td>\n",
       "    </tr>\n",
       "    <tr>\n",
       "      <th>3</th>\n",
       "      <td>3</td>\n",
       "      <td>f3f46cac054e11eba403646e69d991ea</td>\n",
       "      <td>\"تنين ووهان\" .. مريم أيت أحمد توقِّع أولى \"روا...</td>\n",
       "      <td>الجمعة 02 أكتوبر 2020 - 02:00</td>\n",
       "      <td>حاورَها: وائل بورشاشن</td>\n",
       "      <td>مِن قَلب أيّام \"الحَجْر\"، رأتِ النّورَ الفصول ...</td>\n",
       "      <td>art-et-culture</td>\n",
       "    </tr>\n",
       "    <tr>\n",
       "      <th>4</th>\n",
       "      <td>4</td>\n",
       "      <td>f50f0476054e11eba31b646e69d991ea</td>\n",
       "      <td>مسكر يتخلّى عن دعم \"الوزارة\" بسبب \"الجمهور\"</td>\n",
       "      <td>الخميس 01 أكتوبر 2020 - 19:40</td>\n",
       "      <td>هسبريس من الرباط</td>\n",
       "      <td>أعلن الفنان المغربيّ سعيد مسكر تخليه عن مبلغ ا...</td>\n",
       "      <td>art-et-culture</td>\n",
       "    </tr>\n",
       "  </tbody>\n",
       "</table>\n",
       "</div>"
      ],
      "text/plain": [
       "   Unnamed: 0                                id  \\\n",
       "0           0  f06aa998054e11eba66e646e69d991ea   \n",
       "1           1  f1cf1b9c054e11ebb718646e69d991ea   \n",
       "2           2  f2d282a4054e11eb800f646e69d991ea   \n",
       "3           3  f3f46cac054e11eba403646e69d991ea   \n",
       "4           4  f50f0476054e11eba31b646e69d991ea   \n",
       "\n",
       "                                               title  \\\n",
       "0     \"بيت الشعر\" يسائل وزير الثقافة عن كوابيس سوداء   \n",
       "1       مهرجان \"سينما المؤلّف\" يستحضر روح ثريا جبران   \n",
       "2  فيلم \"بدون عنف\" لهشام العسري ..\"كعب الحذاء ووا...   \n",
       "3  \"تنين ووهان\" .. مريم أيت أحمد توقِّع أولى \"روا...   \n",
       "4        مسكر يتخلّى عن دعم \"الوزارة\" بسبب \"الجمهور\"   \n",
       "\n",
       "                            date                 author  \\\n",
       "0  الجمعة 02 أكتوبر 2020 - 23:19       هسبريس من الرباط   \n",
       "1  الجمعة 02 أكتوبر 2020 - 07:26       هسبريس من الرباط   \n",
       "2  الجمعة 02 أكتوبر 2020 - 04:00        عفيفة الحسينات*   \n",
       "3  الجمعة 02 أكتوبر 2020 - 02:00  حاورَها: وائل بورشاشن   \n",
       "4  الخميس 01 أكتوبر 2020 - 19:40       هسبريس من الرباط   \n",
       "\n",
       "                                               story           topic  \n",
       "0  وجه \"بيت الشعر في المغرب\" إلى وزير الثقافة وال...  art-et-culture  \n",
       "1  في ظلّ استمرار حالة الطوارئ الصحية المرتبطة بج...  art-et-culture  \n",
       "2  تشير مشاهدة فيلم قصير ضمن الثلاثية الأخيرة للم...  art-et-culture  \n",
       "3  مِن قَلب أيّام \"الحَجْر\"، رأتِ النّورَ الفصول ...  art-et-culture  \n",
       "4  أعلن الفنان المغربيّ سعيد مسكر تخليه عن مبلغ ا...  art-et-culture  "
      ]
     },
     "execution_count": 167,
     "metadata": {},
     "output_type": "execute_result"
    }
   ],
   "source": [
    "df.head()"
   ]
  },
  {
   "cell_type": "code",
   "execution_count": 168,
   "id": "48ecf5a6",
   "metadata": {},
   "outputs": [],
   "source": [
    "df.drop(['id','Unnamed: 0'],inplace=True,axis=1)"
   ]
  },
  {
   "cell_type": "code",
   "execution_count": 169,
   "id": "5e9c8f5c",
   "metadata": {
    "scrolled": true
   },
   "outputs": [
    {
     "data": {
      "text/html": [
       "<div>\n",
       "<style scoped>\n",
       "    .dataframe tbody tr th:only-of-type {\n",
       "        vertical-align: middle;\n",
       "    }\n",
       "\n",
       "    .dataframe tbody tr th {\n",
       "        vertical-align: top;\n",
       "    }\n",
       "\n",
       "    .dataframe thead th {\n",
       "        text-align: right;\n",
       "    }\n",
       "</style>\n",
       "<table border=\"1\" class=\"dataframe\">\n",
       "  <thead>\n",
       "    <tr style=\"text-align: right;\">\n",
       "      <th></th>\n",
       "      <th>title</th>\n",
       "      <th>date</th>\n",
       "      <th>author</th>\n",
       "      <th>story</th>\n",
       "      <th>topic</th>\n",
       "    </tr>\n",
       "  </thead>\n",
       "  <tbody>\n",
       "    <tr>\n",
       "      <th>0</th>\n",
       "      <td>\"بيت الشعر\" يسائل وزير الثقافة عن كوابيس سوداء</td>\n",
       "      <td>الجمعة 02 أكتوبر 2020 - 23:19</td>\n",
       "      <td>هسبريس من الرباط</td>\n",
       "      <td>وجه \"بيت الشعر في المغرب\" إلى وزير الثقافة وال...</td>\n",
       "      <td>art-et-culture</td>\n",
       "    </tr>\n",
       "    <tr>\n",
       "      <th>1</th>\n",
       "      <td>مهرجان \"سينما المؤلّف\" يستحضر روح ثريا جبران</td>\n",
       "      <td>الجمعة 02 أكتوبر 2020 - 07:26</td>\n",
       "      <td>هسبريس من الرباط</td>\n",
       "      <td>في ظلّ استمرار حالة الطوارئ الصحية المرتبطة بج...</td>\n",
       "      <td>art-et-culture</td>\n",
       "    </tr>\n",
       "    <tr>\n",
       "      <th>2</th>\n",
       "      <td>فيلم \"بدون عنف\" لهشام العسري ..\"كعب الحذاء ووا...</td>\n",
       "      <td>الجمعة 02 أكتوبر 2020 - 04:00</td>\n",
       "      <td>عفيفة الحسينات*</td>\n",
       "      <td>تشير مشاهدة فيلم قصير ضمن الثلاثية الأخيرة للم...</td>\n",
       "      <td>art-et-culture</td>\n",
       "    </tr>\n",
       "    <tr>\n",
       "      <th>3</th>\n",
       "      <td>\"تنين ووهان\" .. مريم أيت أحمد توقِّع أولى \"روا...</td>\n",
       "      <td>الجمعة 02 أكتوبر 2020 - 02:00</td>\n",
       "      <td>حاورَها: وائل بورشاشن</td>\n",
       "      <td>مِن قَلب أيّام \"الحَجْر\"، رأتِ النّورَ الفصول ...</td>\n",
       "      <td>art-et-culture</td>\n",
       "    </tr>\n",
       "    <tr>\n",
       "      <th>4</th>\n",
       "      <td>مسكر يتخلّى عن دعم \"الوزارة\" بسبب \"الجمهور\"</td>\n",
       "      <td>الخميس 01 أكتوبر 2020 - 19:40</td>\n",
       "      <td>هسبريس من الرباط</td>\n",
       "      <td>أعلن الفنان المغربيّ سعيد مسكر تخليه عن مبلغ ا...</td>\n",
       "      <td>art-et-culture</td>\n",
       "    </tr>\n",
       "  </tbody>\n",
       "</table>\n",
       "</div>"
      ],
      "text/plain": [
       "                                               title  \\\n",
       "0     \"بيت الشعر\" يسائل وزير الثقافة عن كوابيس سوداء   \n",
       "1       مهرجان \"سينما المؤلّف\" يستحضر روح ثريا جبران   \n",
       "2  فيلم \"بدون عنف\" لهشام العسري ..\"كعب الحذاء ووا...   \n",
       "3  \"تنين ووهان\" .. مريم أيت أحمد توقِّع أولى \"روا...   \n",
       "4        مسكر يتخلّى عن دعم \"الوزارة\" بسبب \"الجمهور\"   \n",
       "\n",
       "                            date                 author  \\\n",
       "0  الجمعة 02 أكتوبر 2020 - 23:19       هسبريس من الرباط   \n",
       "1  الجمعة 02 أكتوبر 2020 - 07:26       هسبريس من الرباط   \n",
       "2  الجمعة 02 أكتوبر 2020 - 04:00        عفيفة الحسينات*   \n",
       "3  الجمعة 02 أكتوبر 2020 - 02:00  حاورَها: وائل بورشاشن   \n",
       "4  الخميس 01 أكتوبر 2020 - 19:40       هسبريس من الرباط   \n",
       "\n",
       "                                               story           topic  \n",
       "0  وجه \"بيت الشعر في المغرب\" إلى وزير الثقافة وال...  art-et-culture  \n",
       "1  في ظلّ استمرار حالة الطوارئ الصحية المرتبطة بج...  art-et-culture  \n",
       "2  تشير مشاهدة فيلم قصير ضمن الثلاثية الأخيرة للم...  art-et-culture  \n",
       "3  مِن قَلب أيّام \"الحَجْر\"، رأتِ النّورَ الفصول ...  art-et-culture  \n",
       "4  أعلن الفنان المغربيّ سعيد مسكر تخليه عن مبلغ ا...  art-et-culture  "
      ]
     },
     "execution_count": 169,
     "metadata": {},
     "output_type": "execute_result"
    }
   ],
   "source": [
    "df.head()"
   ]
  },
  {
   "cell_type": "markdown",
   "id": "fd2d36f1",
   "metadata": {},
   "source": [
    "## Text Normalization"
   ]
  },
  {
   "cell_type": "code",
   "execution_count": 170,
   "id": "d4060931",
   "metadata": {},
   "outputs": [
    {
     "name": "stdout",
     "output_type": "stream",
     "text": [
      "Requirement already satisfied: pyarabic in c:\\users\\zacks\\anaconda3\\lib\\site-packages (0.6.15)\n",
      "Requirement already satisfied: six>=1.14.0 in c:\\users\\zacks\\anaconda3\\lib\\site-packages (from pyarabic) (1.16.0)\n"
     ]
    }
   ],
   "source": [
    "# After some search the pyarabic lib offerrs  usesful functions that specialized on arabic language so i rather use it that the \n",
    "# regular libs used in english\n",
    "# pip install pyarabic"
   ]
  },
  {
   "cell_type": "code",
   "execution_count": 171,
   "id": "bc3411e7",
   "metadata": {},
   "outputs": [],
   "source": [
    "from pyarabic.araby import strip_tashkeel, strip_tatweel\n",
    "from pyarabic.araby import normalize_ligature, normalize_hamza"
   ]
  },
  {
   "cell_type": "code",
   "execution_count": 172,
   "id": "bc539f44",
   "metadata": {},
   "outputs": [],
   "source": [
    "def normalize_arabic_text(text):\n",
    "    # Remove diacritics (Tashkeel)\n",
    "    text = strip_tashkeel(text)\n",
    "    \n",
    "    # Remove Tatweel (elongation character)\n",
    "    text = strip_tatweel(text)\n",
    "    \n",
    "    # Normalize Arabic ligatures (join separate characters)\n",
    "    text = normalize_ligature(text)\n",
    "    \n",
    "    # Normalize Hamza (handle different forms of hamza)\n",
    "    text = normalize_hamza(text)\n",
    "    \n",
    "    return text"
   ]
  },
  {
   "cell_type": "code",
   "execution_count": 173,
   "id": "f7dc5d70",
   "metadata": {},
   "outputs": [],
   "source": [
    "#This just to make sure all characters appears in the same in all the text\n",
    "df['story']=df['story'].apply(normalize_arabic_text)\n",
    "df['title']=df['title'].apply(normalize_arabic_text)\n",
    "df['author']=df['author'].apply(normalize_arabic_text)"
   ]
  },
  {
   "cell_type": "markdown",
   "id": "2b1eb0fe",
   "metadata": {},
   "source": [
    "## Remove Diacritics"
   ]
  },
  {
   "cell_type": "code",
   "execution_count": 174,
   "id": "256ef6bb",
   "metadata": {},
   "outputs": [],
   "source": [
    "# Removing the Diacritics will help the complexity as the text is some how too long\n",
    "def remove_diacritics(text):\n",
    "    # Regular expression pattern to match Arabic diacritics (Tashkeel)\n",
    "    diacritics_pattern = re.compile(\"[\\u0617-\\u061A\\u064B-\\u0652]\")\n",
    "    \n",
    "    # Replace diacritics with an empty string\n",
    "    cleaned_text = diacritics_pattern.sub(\"\", text)\n",
    "    \n",
    "    return cleaned_text"
   ]
  },
  {
   "cell_type": "code",
   "execution_count": 175,
   "id": "fd2eeb1b",
   "metadata": {},
   "outputs": [],
   "source": [
    "df['story']=df['story'].apply(remove_diacritics)\n",
    "df['title']=df['title'].apply(remove_diacritics)\n",
    "df['author']=df['author'].apply(remove_diacritics)"
   ]
  },
  {
   "cell_type": "markdown",
   "id": "fec8727d",
   "metadata": {},
   "source": [
    "## Stepwords Removal\n"
   ]
  },
  {
   "cell_type": "code",
   "execution_count": 151,
   "id": "66368fb3",
   "metadata": {},
   "outputs": [
    {
     "name": "stderr",
     "output_type": "stream",
     "text": [
      "[nltk_data] Downloading package stopwords to\n",
      "[nltk_data]     C:\\Users\\zacks\\AppData\\Roaming\\nltk_data...\n",
      "[nltk_data]   Package stopwords is already up-to-date!\n",
      "[nltk_data] Downloading package punkt to\n",
      "[nltk_data]     C:\\Users\\zacks\\AppData\\Roaming\\nltk_data...\n",
      "[nltk_data]   Package punkt is already up-to-date!\n"
     ]
    },
    {
     "data": {
      "text/plain": [
       "True"
      ]
     },
     "execution_count": 151,
     "metadata": {},
     "output_type": "execute_result"
    }
   ],
   "source": [
    "nltk.download('stopwords')\n",
    "nltk.download('punkt')"
   ]
  },
  {
   "cell_type": "code",
   "execution_count": 152,
   "id": "32ee8eec",
   "metadata": {},
   "outputs": [],
   "source": [
    "def remove_arabic_stop_words(text):\n",
    "    # Tokenize the text into individual words\n",
    "    words = word_tokenize(text)\n",
    "    \n",
    "    # Get the list of Arabic stop words from the nltk library\n",
    "    arabic_stop_words = set(stopwords.words('arabic'))\n",
    "    \n",
    "    # Remove stop words from the list of words\n",
    "    filtered_words = [word for word in words if word not in arabic_stop_words]\n",
    "    \n",
    "    # Join the filtered words back into a single text string\n",
    "    cleaned_text = ' '.join(filtered_words)\n",
    "    \n",
    "    return cleaned_text\n",
    "\n"
   ]
  },
  {
   "cell_type": "code",
   "execution_count": 176,
   "id": "25b571b5",
   "metadata": {},
   "outputs": [],
   "source": [
    "df['story']=df['story'].apply(remove_arabic_stop_words)\n",
    "df['title']=df['title'].apply(remove_arabic_stop_words)\n",
    "df['author']=df['author'].apply(remove_arabic_stop_words)"
   ]
  },
  {
   "cell_type": "code",
   "execution_count": 177,
   "id": "8a74b373",
   "metadata": {},
   "outputs": [
    {
     "data": {
      "text/html": [
       "<div>\n",
       "<style scoped>\n",
       "    .dataframe tbody tr th:only-of-type {\n",
       "        vertical-align: middle;\n",
       "    }\n",
       "\n",
       "    .dataframe tbody tr th {\n",
       "        vertical-align: top;\n",
       "    }\n",
       "\n",
       "    .dataframe thead th {\n",
       "        text-align: right;\n",
       "    }\n",
       "</style>\n",
       "<table border=\"1\" class=\"dataframe\">\n",
       "  <thead>\n",
       "    <tr style=\"text-align: right;\">\n",
       "      <th></th>\n",
       "      <th>title</th>\n",
       "      <th>date</th>\n",
       "      <th>author</th>\n",
       "      <th>story</th>\n",
       "      <th>topic</th>\n",
       "    </tr>\n",
       "  </thead>\n",
       "  <tbody>\n",
       "    <tr>\n",
       "      <th>0</th>\n",
       "      <td>`` بيت الشعر '' يساءل وزير الثقافة كوابيس سوداء</td>\n",
       "      <td>الجمعة 02 أكتوبر 2020 - 23:19</td>\n",
       "      <td>هسبريس الرباط</td>\n",
       "      <td>وجه `` بيت الشعر المغرب '' ءلى وزير الثقافة وا...</td>\n",
       "      <td>art-et-culture</td>\n",
       "    </tr>\n",
       "    <tr>\n",
       "      <th>1</th>\n",
       "      <td>مهرجان `` سينما المءلف '' يستحضر روح ثريا جبران</td>\n",
       "      <td>الجمعة 02 أكتوبر 2020 - 07:26</td>\n",
       "      <td>هسبريس الرباط</td>\n",
       "      <td>ظل استمرار حالة الطوارء الصحية المرتبطة بجاءحة...</td>\n",
       "      <td>art-et-culture</td>\n",
       "    </tr>\n",
       "    <tr>\n",
       "      <th>2</th>\n",
       "      <td>فيلم `` بدون عنف '' لهشام العسري .. '' كعب الح...</td>\n",
       "      <td>الجمعة 02 أكتوبر 2020 - 04:00</td>\n",
       "      <td>عفيفة الحسينات *</td>\n",
       "      <td>تشير مشاهدة فيلم قصير ضمن الثلاثية الءخيرة للم...</td>\n",
       "      <td>art-et-culture</td>\n",
       "    </tr>\n",
       "    <tr>\n",
       "      <th>3</th>\n",
       "      <td>`` تنين ووهان '' .. مريم ءيت ءحمد توقع ءولى ``...</td>\n",
       "      <td>الجمعة 02 أكتوبر 2020 - 02:00</td>\n",
       "      <td>حاورها : واءل بورشاشن</td>\n",
       "      <td>قلب ءيام `` الحجر '' ، رءت النور الفصول الءولى...</td>\n",
       "      <td>art-et-culture</td>\n",
       "    </tr>\n",
       "    <tr>\n",
       "      <th>4</th>\n",
       "      <td>مسكر يتخلى دعم `` الوزارة '' بسبب `` الجمهور ''</td>\n",
       "      <td>الخميس 01 أكتوبر 2020 - 19:40</td>\n",
       "      <td>هسبريس الرباط</td>\n",
       "      <td>ءعلن الفنان المغربي سعيد مسكر تخليه مبلغ الدعم...</td>\n",
       "      <td>art-et-culture</td>\n",
       "    </tr>\n",
       "  </tbody>\n",
       "</table>\n",
       "</div>"
      ],
      "text/plain": [
       "                                               title  \\\n",
       "0    `` بيت الشعر '' يساءل وزير الثقافة كوابيس سوداء   \n",
       "1    مهرجان `` سينما المءلف '' يستحضر روح ثريا جبران   \n",
       "2  فيلم `` بدون عنف '' لهشام العسري .. '' كعب الح...   \n",
       "3  `` تنين ووهان '' .. مريم ءيت ءحمد توقع ءولى ``...   \n",
       "4    مسكر يتخلى دعم `` الوزارة '' بسبب `` الجمهور ''   \n",
       "\n",
       "                            date                 author  \\\n",
       "0  الجمعة 02 أكتوبر 2020 - 23:19          هسبريس الرباط   \n",
       "1  الجمعة 02 أكتوبر 2020 - 07:26          هسبريس الرباط   \n",
       "2  الجمعة 02 أكتوبر 2020 - 04:00       عفيفة الحسينات *   \n",
       "3  الجمعة 02 أكتوبر 2020 - 02:00  حاورها : واءل بورشاشن   \n",
       "4  الخميس 01 أكتوبر 2020 - 19:40          هسبريس الرباط   \n",
       "\n",
       "                                               story           topic  \n",
       "0  وجه `` بيت الشعر المغرب '' ءلى وزير الثقافة وا...  art-et-culture  \n",
       "1  ظل استمرار حالة الطوارء الصحية المرتبطة بجاءحة...  art-et-culture  \n",
       "2  تشير مشاهدة فيلم قصير ضمن الثلاثية الءخيرة للم...  art-et-culture  \n",
       "3  قلب ءيام `` الحجر '' ، رءت النور الفصول الءولى...  art-et-culture  \n",
       "4  ءعلن الفنان المغربي سعيد مسكر تخليه مبلغ الدعم...  art-et-culture  "
      ]
     },
     "execution_count": 177,
     "metadata": {},
     "output_type": "execute_result"
    }
   ],
   "source": [
    "df.head()"
   ]
  },
  {
   "cell_type": "markdown",
   "id": "6605a45c",
   "metadata": {},
   "source": [
    "## Splitting the data"
   ]
  },
  {
   "cell_type": "code",
   "execution_count": 178,
   "id": "d922007d",
   "metadata": {},
   "outputs": [
    {
     "data": {
      "text/plain": [
       "['art-et-culture',\n",
       " 'economie',\n",
       " 'faits-divers',\n",
       " 'marocains-du-monde',\n",
       " 'medias',\n",
       " 'orbites',\n",
       " 'politique',\n",
       " 'regions',\n",
       " 'societe',\n",
       " 'sport',\n",
       " 'tamazight']"
      ]
     },
     "execution_count": 178,
     "metadata": {},
     "output_type": "execute_result"
    }
   ],
   "source": [
    "Topics=list(df['topic'].unique())\n",
    "Topics\n"
   ]
  },
  {
   "cell_type": "code",
   "execution_count": 192,
   "id": "7074783c",
   "metadata": {},
   "outputs": [
    {
     "data": {
      "text/plain": [
       "{0: 'art-et-culture',\n",
       " 1: 'economie',\n",
       " 2: 'faits-divers',\n",
       " 3: 'marocains-du-monde',\n",
       " 4: 'medias',\n",
       " 5: 'orbites',\n",
       " 6: 'politique',\n",
       " 7: 'regions',\n",
       " 8: 'societe',\n",
       " 9: 'sport',\n",
       " 10: 'tamazight'}"
      ]
     },
     "execution_count": 192,
     "metadata": {},
     "output_type": "execute_result"
    }
   ],
   "source": [
    "#Hashing Tpics into numbers\n",
    "t= dict(zip(Topics,range(0,11)))\n",
    "t.values()\n",
    "rt=dict(zip(list(t.values()),list(t.keys())))\n",
    "rt"
   ]
  },
  {
   "cell_type": "code",
   "execution_count": 180,
   "id": "fbeb875a",
   "metadata": {},
   "outputs": [],
   "source": [
    "def hashTopic(x):\n",
    "    return t[x]\n",
    "\n",
    "df['topic']=df['topic'].apply(hashTopic)"
   ]
  },
  {
   "cell_type": "code",
   "execution_count": 181,
   "id": "509fd123",
   "metadata": {
    "scrolled": false
   },
   "outputs": [
    {
     "data": {
      "text/html": [
       "<div>\n",
       "<style scoped>\n",
       "    .dataframe tbody tr th:only-of-type {\n",
       "        vertical-align: middle;\n",
       "    }\n",
       "\n",
       "    .dataframe tbody tr th {\n",
       "        vertical-align: top;\n",
       "    }\n",
       "\n",
       "    .dataframe thead th {\n",
       "        text-align: right;\n",
       "    }\n",
       "</style>\n",
       "<table border=\"1\" class=\"dataframe\">\n",
       "  <thead>\n",
       "    <tr style=\"text-align: right;\">\n",
       "      <th></th>\n",
       "      <th>title</th>\n",
       "      <th>date</th>\n",
       "      <th>author</th>\n",
       "      <th>story</th>\n",
       "      <th>topic</th>\n",
       "    </tr>\n",
       "  </thead>\n",
       "  <tbody>\n",
       "    <tr>\n",
       "      <th>0</th>\n",
       "      <td>`` بيت الشعر '' يساءل وزير الثقافة كوابيس سوداء</td>\n",
       "      <td>الجمعة 02 أكتوبر 2020 - 23:19</td>\n",
       "      <td>هسبريس الرباط</td>\n",
       "      <td>وجه `` بيت الشعر المغرب '' ءلى وزير الثقافة وا...</td>\n",
       "      <td>0</td>\n",
       "    </tr>\n",
       "    <tr>\n",
       "      <th>1</th>\n",
       "      <td>مهرجان `` سينما المءلف '' يستحضر روح ثريا جبران</td>\n",
       "      <td>الجمعة 02 أكتوبر 2020 - 07:26</td>\n",
       "      <td>هسبريس الرباط</td>\n",
       "      <td>ظل استمرار حالة الطوارء الصحية المرتبطة بجاءحة...</td>\n",
       "      <td>0</td>\n",
       "    </tr>\n",
       "    <tr>\n",
       "      <th>2</th>\n",
       "      <td>فيلم `` بدون عنف '' لهشام العسري .. '' كعب الح...</td>\n",
       "      <td>الجمعة 02 أكتوبر 2020 - 04:00</td>\n",
       "      <td>عفيفة الحسينات *</td>\n",
       "      <td>تشير مشاهدة فيلم قصير ضمن الثلاثية الءخيرة للم...</td>\n",
       "      <td>0</td>\n",
       "    </tr>\n",
       "    <tr>\n",
       "      <th>3</th>\n",
       "      <td>`` تنين ووهان '' .. مريم ءيت ءحمد توقع ءولى ``...</td>\n",
       "      <td>الجمعة 02 أكتوبر 2020 - 02:00</td>\n",
       "      <td>حاورها : واءل بورشاشن</td>\n",
       "      <td>قلب ءيام `` الحجر '' ، رءت النور الفصول الءولى...</td>\n",
       "      <td>0</td>\n",
       "    </tr>\n",
       "    <tr>\n",
       "      <th>4</th>\n",
       "      <td>مسكر يتخلى دعم `` الوزارة '' بسبب `` الجمهور ''</td>\n",
       "      <td>الخميس 01 أكتوبر 2020 - 19:40</td>\n",
       "      <td>هسبريس الرباط</td>\n",
       "      <td>ءعلن الفنان المغربي سعيد مسكر تخليه مبلغ الدعم...</td>\n",
       "      <td>0</td>\n",
       "    </tr>\n",
       "  </tbody>\n",
       "</table>\n",
       "</div>"
      ],
      "text/plain": [
       "                                               title  \\\n",
       "0    `` بيت الشعر '' يساءل وزير الثقافة كوابيس سوداء   \n",
       "1    مهرجان `` سينما المءلف '' يستحضر روح ثريا جبران   \n",
       "2  فيلم `` بدون عنف '' لهشام العسري .. '' كعب الح...   \n",
       "3  `` تنين ووهان '' .. مريم ءيت ءحمد توقع ءولى ``...   \n",
       "4    مسكر يتخلى دعم `` الوزارة '' بسبب `` الجمهور ''   \n",
       "\n",
       "                            date                 author  \\\n",
       "0  الجمعة 02 أكتوبر 2020 - 23:19          هسبريس الرباط   \n",
       "1  الجمعة 02 أكتوبر 2020 - 07:26          هسبريس الرباط   \n",
       "2  الجمعة 02 أكتوبر 2020 - 04:00       عفيفة الحسينات *   \n",
       "3  الجمعة 02 أكتوبر 2020 - 02:00  حاورها : واءل بورشاشن   \n",
       "4  الخميس 01 أكتوبر 2020 - 19:40          هسبريس الرباط   \n",
       "\n",
       "                                               story  topic  \n",
       "0  وجه `` بيت الشعر المغرب '' ءلى وزير الثقافة وا...      0  \n",
       "1  ظل استمرار حالة الطوارء الصحية المرتبطة بجاءحة...      0  \n",
       "2  تشير مشاهدة فيلم قصير ضمن الثلاثية الءخيرة للم...      0  \n",
       "3  قلب ءيام `` الحجر '' ، رءت النور الفصول الءولى...      0  \n",
       "4  ءعلن الفنان المغربي سعيد مسكر تخليه مبلغ الدعم...      0  "
      ]
     },
     "execution_count": 181,
     "metadata": {},
     "output_type": "execute_result"
    }
   ],
   "source": [
    "df.head()"
   ]
  },
  {
   "cell_type": "markdown",
   "id": "cf819447",
   "metadata": {},
   "source": [
    "## Modeling"
   ]
  },
  {
   "cell_type": "code",
   "execution_count": 182,
   "id": "e103c66c",
   "metadata": {},
   "outputs": [
    {
     "name": "stdout",
     "output_type": "stream",
     "text": [
      "Accuracy: 0.8395454545454546\n"
     ]
    }
   ],
   "source": [
    "from sklearn.feature_extraction.text import TfidfVectorizer\n",
    "from sklearn.model_selection import train_test_split\n",
    "import xgboost as xgb\n",
    "from sklearn.metrics import accuracy_score\n",
    "\n",
    "df['combined_text'] = df['title'] + ' ' + df['story']+' '+df['author']\n",
    "\n",
    "df = df.sample(frac=1, random_state=42)\n",
    "\n",
    "X = df['combined_text'].values\n",
    "y = df['topic'].values\n",
    "\n",
    "X_train, X_test, y_train, y_test = train_test_split(X, y, test_size=0.2, stratify=y, random_state=42)\n",
    "\n",
    "vectorizer = TfidfVectorizer()\n",
    "X_train_tfidf = vectorizer.fit_transform(X_train)\n",
    "X_test_tfidf = vectorizer.transform(X_test)\n",
    "\n",
    "xgb_classifier = xgb.XGBClassifier(n_estimators=100, max_depth=3, num_class=11, objective='multi:softmax')\n",
    "xgb_classifier.fit(X_train_tfidf, y_train)\n",
    "\n",
    "y_pred = xgb_classifier.predict(X_test_tfidf)\n",
    "accuracy = accuracy_score(y_test, y_pred)\n",
    "print(f\"Accuracy: {accuracy}\")"
   ]
  },
  {
   "cell_type": "code",
   "execution_count": 208,
   "id": "d5df7392",
   "metadata": {},
   "outputs": [
    {
     "name": "stdout",
     "output_type": "stream",
     "text": [
      "Classification Report:\n",
      "                    precision    recall  f1-score   support\n",
      "\n",
      "    art-et-culture       0.89      0.85      0.87       200\n",
      "          economie       0.79      0.80      0.79       200\n",
      "      faits-divers       0.93      0.89      0.91       200\n",
      "marocains-du-monde       0.83      0.86      0.84       200\n",
      "            medias       0.92      0.92      0.92       200\n",
      "           orbites       0.69      0.66      0.67       200\n",
      "         politique       0.73      0.78      0.75       200\n",
      "           regions       0.79      0.80      0.80       200\n",
      "           societe       0.72      0.73      0.73       200\n",
      "             sport       0.97      0.97      0.97       200\n",
      "         tamazight       0.97      0.98      0.98       200\n",
      "\n",
      "          accuracy                           0.84      2200\n",
      "         macro avg       0.84      0.84      0.84      2200\n",
      "      weighted avg       0.84      0.84      0.84      2200\n",
      "\n"
     ]
    }
   ],
   "source": [
    "from sklearn.metrics import classification_report\n",
    "\n",
    "# Calculate precision, recall, and F1-score\n",
    "target_names = [rt[label] for label in sorted(set(y_test))]\n",
    "report = classification_report(y_test, y_pred,target_names=target_names)\n",
    "\n",
    "print(\"Classification Report:\")\n",
    "print(report)\n"
   ]
  },
  {
   "cell_type": "markdown",
   "id": "2c8857fc",
   "metadata": {},
   "source": [
    "## Classification Report\n",
    "\n",
    "The classification report shows the performance of our model in classifying data into 11 different classes (0 to 10). It provides several metrics to evaluate how well the model is doing.\n",
    "\n",
    "#### Precision:\n",
    "Precision tells us how many of the predicted instances for each class are actually correct. A higher precision means fewer instances were wrongly predicted.\n",
    "\n",
    "#### Recall:\n",
    "Recall tells us how many of the actual instances for each class the model can identify correctly. A higher recall means the model can identify most of the actual instances for that class.\n",
    "\n",
    "#### F1-score:\n",
    "F1-score is a balanced measure that considers both precision and recall. It is useful when we want to look at the overall performance, considering both false positives and false negatives.\n",
    "\n",
    "#### Support:\n",
    "Support represents the number of instances in each class in the test set.\n",
    "\n",
    "Now, let's interpret the results:\n",
    "\n",
    "- **Class art-et-culture**:\n",
    "   - Precision: 0.89\n",
    "   - Recall: 0.85\n",
    "   - F1-score: 0.87\n",
    "\n",
    "- **Class economie**:\n",
    "   - Precision: 0.79\n",
    "   - Recall: 0.80\n",
    "   - F1-score: 0.79\n",
    "\n",
    "- **Class faits-divers**:\n",
    "   - Precision: 0.93\n",
    "   - Recall: 0.89\n",
    "   - F1-score: 0.91\n",
    "\n",
    "- **Class marocains-du-monde**:\n",
    "   - Precision: 0.83\n",
    "   - Recall: 0.86\n",
    "   - F1-score: 0.84\n",
    "\n",
    "- **Class medias**:\n",
    "   - Precision: 0.92\n",
    "   - Recall: 0.92\n",
    "   - F1-score: 0.92\n",
    "\n",
    "- **Class orbites**:\n",
    "   - Precision: 0.69\n",
    "   - Recall: 0.66\n",
    "   - F1-score: 0.67\n",
    "\n",
    "- **Class politique**:\n",
    "   - Precision: 0.73\n",
    "   - Recall: 0.78\n",
    "   - F1-score: 0.75\n",
    "\n",
    "- **Class regions**:\n",
    "   - Precision: 0.79\n",
    "   - Recall: 0.80\n",
    "   - F1-score: 0.80\n",
    "\n",
    "- **Class societe**:\n",
    "   - Precision: 0.72\n",
    "   - Recall: 0.73\n",
    "   - F1-score: 0.73\n",
    "\n",
    "- **Class sport**:\n",
    "   - Precision: 0.97\n",
    "   - Recall: 0.97\n",
    "   - F1-score: 0.97\n",
    "\n",
    "- **Class tamazight**:\n",
    "   - Precision: 0.97\n",
    "   - Recall: 0.98\n",
    "   - F1-score: 0.98\n",
    "\n",
    "Overall, the model seems to be performing quite well, with balanced precision and recall for most of the classes, resulting in an accuracy of 84%. However, as with any model, it's essential to consider the specific requirements of the application and further investigate areas that may need improvement.\n"
   ]
  },
  {
   "cell_type": "code",
   "execution_count": 162,
   "id": "7a70319d",
   "metadata": {},
   "outputs": [],
   "source": [
    "from sklearn.metrics import confusion_matrix"
   ]
  },
  {
   "cell_type": "code",
   "execution_count": 211,
   "id": "9c09635b",
   "metadata": {
    "scrolled": false
   },
   "outputs": [
    {
     "data": {
      "image/png": "[encoded data removed]",
      "text/plain": [
       "<Figure size 1000x800 with 2 Axes>"
      ]
     },
     "metadata": {},
     "output_type": "display_data"
    }
   ],
   "source": [
    "conf_matrix = confusion_matrix(y_test, y_pred)\n",
    "\n",
    "# Create a DataFrame from the confusion matrix\n",
    "conf_df = pd.DataFrame(conf_matrix, index=Topics, columns=Topics)\n",
    "\n",
    "# Plot the confusion matrix using seaborn's heatmap\n",
    "plt.figure(figsize=(10, 8))\n",
    "sns.heatmap(conf_df, annot=True, fmt='d', cmap='Blues', cbar=True)\n",
    "plt.xlabel('Predicted Label')\n",
    "plt.ylabel('True Label')\n",
    "plt.title('Confusion Matrix')\n",
    "plt.show()"
   ]
  },
  {
   "cell_type": "code",
   "execution_count": null,
   "id": "95dc0ddd",
   "metadata": {},
   "outputs": [],
   "source": []
  }
 ],
 "metadata": {
  "kernelspec": {
   "display_name": "Python 3 (ipykernel)",
   "language": "python",
   "name": "python3"
  },
  "language_info": {
   "codemirror_mode": {
    "name": "ipython",
    "version": 3
   },
   "file_extension": ".py",
   "mimetype": "text/x-python",
   "name": "python",
   "nbconvert_exporter": "python",
   "pygments_lexer": "ipython3",
   "version": "3.10.9"
  }
 },
 "nbformat": 4,
 "nbformat_minor": 5
}
